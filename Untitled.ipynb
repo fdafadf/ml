{
    "metadata": {
        "orig_nbformat": 4,
        "language_info": {
            "name": "python",
            "version": "3.7.10",
            "mimetype": "text/x-python",
            "codemirror_mode": {
                "name": "ipython",
                "version": 3
            },
            "pygments_lexer": "ipython3",
            "nbconvert_exporter": "python",
            "file_extension": ".py"
        },
        "kernelspec": {
            "name": "python3",
            "display_name": "Python 3 (ipykernel)",
            "language": "python"
        }
    },
    "nbformat_minor": 5,
    "nbformat": 4,
    "cells": [{
            "cell_type": "code",
            "source": "'test'",
            "metadata": {
                "trusted": true
            },
            "execution_count": 1,
            "outputs": [{
                    "execution_count": 1,
                    "output_type": "execute_result",
                    "data": {
                        "text/plain": "'test'"
                    },
                    "metadata": {}
                }
            ],
            "id": "5a24cb64-5974-48b1-93dc-a29b0e7753b6"
        }, {
            "cell_type": "code",
            "source": "",
            "metadata": {},
            "execution_count": null,
            "outputs": [],
            "id": "d66c0da1-30e7-49d3-8191-e3cb3d114394"
        }
    ]
}
