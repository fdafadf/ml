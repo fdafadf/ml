{
  "nbformat": 4,
  "nbformat_minor": 0,
  "metadata": {
    "colab": {
      "name": "MachineLearning.ipynb",
      "provenance": [],
      "collapsed_sections": [],
      "authorship_tag": "ABX9TyMPAHIjtme6+v/kqBvjckKO",
      "include_colab_link": true
    },
    "kernelspec": {
      "name": "python3",
      "display_name": "Python 3"
    },
    "language_info": {
      "name": "python"
    }
  },
  "cells": [
    {
      "cell_type": "markdown",
      "metadata": {
        "id": "view-in-github",
        "colab_type": "text"
      },
      "source": [
        "<a href=\"https://colab.research.google.com/github/fdafadf/ml/blob/main/MachineLearning.ipynb\" target=\"_parent\"><img src=\"https://colab.research.google.com/assets/colab-badge.svg\" alt=\"Open In Colab\"/></a>"
      ]
    },
    {
      "cell_type": "code",
      "metadata": {
        "id": "ecdgXgiebDao"
      },
      "source": [
        "import matplotlib.pyplot as plt\n",
        "import numpy as np"
      ],
      "execution_count": 3,
      "outputs": []
    },
    {
      "cell_type": "markdown",
      "metadata": {
        "id": "s_290Xhr4eBc"
      },
      "source": [
        "# Regresja liniowa"
      ]
    },
    {
      "cell_type": "markdown",
      "metadata": {
        "id": "3xyFK4OR6xii"
      },
      "source": [
        "## Wprowadzenie"
      ]
    },
    {
      "cell_type": "markdown",
      "metadata": {
        "id": "P3TRA27cT3wc"
      },
      "source": [
        "Ten rozdział służy intuicyjnemu zrozumieniu czym jest regresja liniowa. Używane są zwroty potoczne, unika się używania formalizmów które pojawią się dopiero w kolejnych rozdziałach.\n",
        "\n",
        "Celem regresji liniowej jest poszukiwanie takiej prostej która przebiega najbliżej pewnemu zbiorowi punktów. Tak jak to przedstawiono w poniższym przykładzie."
      ]
    },
    {
      "cell_type": "code",
      "metadata": {
        "id": "FdioSrnXqRvU",
        "colab": {
          "base_uri": "https://localhost:8080/",
          "height": 265
        },
        "outputId": "e0cf27fc-bb81-4611-b352-a9ae113297dd"
      },
      "source": [
        "def draw_data_and_line(data, a, b):\n",
        "  plt.scatter(*data.T, color='green')\n",
        "  plt.plot([0, 1], [b, a + b])\n",
        "  plt.show()\n",
        "\n",
        "data = np.array([\n",
        "  [0.1, 1.15],\n",
        "  [0.2, 1.2],\n",
        "  [0.3, 1.32],\n",
        "  [0.5, 1.47],\n",
        "  [0.6, 1.6],\n",
        "  [0.9, 1.9],\n",
        "])\n",
        "draw_data_and_line(data, 1, 1)"
      ],
      "execution_count": 106,
      "outputs": [
        {
          "output_type": "display_data",
          "data": {
            "image/png": "[encoded data removed]",
            "text/plain": [
              "<Figure size 432x288 with 1 Axes>"
            ]
          },
          "metadata": {
            "needs_background": "light"
          }
        }
      ]
    },
    {
      "cell_type": "markdown",
      "metadata": {
        "id": "GNAEDCe5YrGB"
      },
      "source": [
        "Aby wiedzieć czy dana prosta lepiej oddaje położenia punktów od innej prostej potrzebujemy sposobu na obliczenie błędu z jakim konkretna prosta odwzorowuje zbiór punktów.\n",
        "\n",
        "Najczęściej stosowana metoda polega na tym, że dla każdego punktu liczymy jego odległość od prostej w rzucie pionowym. Następnie wszystkie odległości podnosimy do kwadratu i sumujemy. Najlepiej odległości dla wszytkich punktów wynosiły 0. Oznaczało by to, że wszystkie leżą na prostej.\n",
        "\n",
        "Zdefiniujmy funkcję która liczy błąd dla zbioru punktów i prostej."
      ]
    },
    {
      "cell_type": "code",
      "metadata": {
        "id": "m0lMIiXNanLt"
      },
      "source": [
        "def calculate_error(data, a, b):\n",
        "  return sum(d * d for d in [(a * item[0] + b) - item[1] for item in data]) "
      ],
      "execution_count": 102,
      "outputs": []
    },
    {
      "cell_type": "markdown",
      "metadata": {
        "id": "Y_4oqeAbS4L7"
      },
      "source": [
        "### Metoda 0"
      ]
    },
    {
      "cell_type": "markdown",
      "metadata": {
        "id": "8V1spg5TWNuR"
      },
      "source": [
        "Spróbujmy wymyślić od zera metodę wyznaczenia takiej prostej.\n",
        "\n",
        "$y = ax+b$\n",
        "\n",
        "Zgodnie z równaniem prostej, szukamy takich wartości $a$ oraz $b$ dla której nasz `calculate_error` będzie możliwie najmniejszy.\n",
        "\n",
        "Można zauważyć, że dla prostych z parametrem $a=0$ najlepiej dopasowana będzie ta, z parametrem $b$ równym średniej wszystkich $y$ ze zbioru punktów.\n"
      ]
    },
    {
      "cell_type": "code",
      "metadata": {
        "colab": {
          "base_uri": "https://localhost:8080/",
          "height": 299
        },
        "id": "eOj5xivv-lN0",
        "outputId": "39001454-c855-4a96-fa65-8bb2024ebfb8"
      },
      "source": [
        "a = 0\n",
        "b = data[:, 1].mean()\n",
        "draw_data_and_line(data, a, b)\n",
        "print(f\"a={0}, b={0}, error={calculate_error(data, 0, 0)}\")\n",
        "print(f\"a={a}, b={b}, error={calculate_error(data, a, b)}\")"
      ],
      "execution_count": 104,
      "outputs": [
        {
          "output_type": "display_data",
          "data": {
            "image/png": "[encoded data removed]",
            "text/plain": [
              "<Figure size 432x288 with 1 Axes>"
            ]
          },
          "metadata": {
            "needs_background": "light"
          }
        },
        {
          "output_type": "stream",
          "name": "stdout",
          "text": [
            "a=0, b=0, error=12.835799999999999\n",
            "a=0, b=1.4400000000000002, error=0.3942\n"
          ]
        }
      ]
    },
    {
      "cell_type": "markdown",
      "metadata": {
        "id": "Fj5ue2z7zqTM"
      },
      "source": [
        "Spróbujmy teraz poprawić parametr $a$. W tym celu zdefiniujmy zbiór prostych podobnych do aktualnej, które różnią się w niewielkim stopniu parametrem $a$. "
      ]
    },
    {
      "cell_type": "code",
      "metadata": {
        "id": "9eMDc-yOCczi"
      },
      "source": [
        "a_search_range = 2\n",
        "a_step = a_search_range / 10\n",
        "a_start = a - a_search_range\n",
        "a_stop = a + a_search_range\n",
        "\n",
        "for a2 in np.arange(a_start, a_stop, a_step):\n",
        "  plt.plot([0, 1], [b, a2 + b])\n",
        "\n",
        "plt.show()"
      ],
      "execution_count": null,
      "outputs": []
    },
    {
      "cell_type": "markdown",
      "metadata": {
        "id": "voshZU4Gu9Bl"
      },
      "source": [
        "Dla każdej z tych prostych możemy policzyć `calculate_error`."
      ]
    },
    {
      "cell_type": "code",
      "metadata": {
        "id": "j9PaUizcAUJj"
      },
      "source": [
        "errors_a = np.array([[a2, calculate_error(data, a2, b)] for a2 in np.arange(a_start, a_stop, a_step)])\n",
        "plt.scatter(*errors_a.T, color='green')\n",
        "plt.show()"
      ],
      "execution_count": null,
      "outputs": []
    },
    {
      "cell_type": "markdown",
      "metadata": {
        "id": "Kei5ngc3vJkA"
      },
      "source": [
        "Wybieramy ten parametr który okazał się najlepszy. Oto prosta którą otrzymaliśmy:"
      ]
    },
    {
      "cell_type": "code",
      "metadata": {
        "id": "VCaTXhquD69S"
      },
      "source": [
        "a = errors_a[errors_a[:, 1].argmin()][0]\n",
        "draw_data_and_line(data, a, b)"
      ],
      "execution_count": null,
      "outputs": []
    },
    {
      "cell_type": "markdown",
      "metadata": {
        "id": "2OuliybPvcKP"
      },
      "source": [
        "W ten sam sposób możemy poprawić parametr $b$. Wyznaczamy zbiór podobnych prostych."
      ]
    },
    {
      "cell_type": "code",
      "metadata": {
        "id": "mGHNNvxoFuzz"
      },
      "source": [
        "b_search_range = 2\n",
        "b_step = b_search_range / 10\n",
        "b_start = b - b_search_range\n",
        "b_stop = b + b_search_range\n",
        "\n",
        "for b2 in np.arange(b_start, b_stop, b_step):\n",
        "  plt.plot([0, 1], [b2, a + b2])\n",
        "\n",
        "plt.show()"
      ],
      "execution_count": null,
      "outputs": []
    },
    {
      "cell_type": "markdown",
      "metadata": {
        "id": "n1MVCOpCv0vB"
      },
      "source": [
        "Liczymy błąd dla każdej z nich."
      ]
    },
    {
      "cell_type": "code",
      "metadata": {
        "id": "596_TbcUF_yq"
      },
      "source": [
        "errors_b = np.array([[b2, calculate_error(data, a, b2)] for b2 in np.arange(b - 1, b + 1.01, 0.1)])\n",
        "plt.scatter(*errors_b.T, color='green')\n",
        "plt.show()"
      ],
      "execution_count": null,
      "outputs": []
    },
    {
      "cell_type": "markdown",
      "metadata": {
        "id": "AlluvFeUv4xx"
      },
      "source": [
        "Wybieramy parametr $b$ z najmniejszym błędem."
      ]
    },
    {
      "cell_type": "code",
      "metadata": {
        "id": "6lmkbXCwIPkS"
      },
      "source": [
        "b = errors_b[errors_b[:, 1].argmin()][0]\n",
        "draw_data_and_line(data, a, b)"
      ],
      "execution_count": null,
      "outputs": []
    },
    {
      "cell_type": "markdown",
      "metadata": {
        "id": "4rWAZw0Zv9kD"
      },
      "source": [
        "Czynności te możemy powtarzać wielokrotnie jeśli prowadzi to do coraz dokłądniejszego wyniku. Możemy również wymyślać modyfikacje tej metody. Przykładowo można stopniowo zmniejszać wartości zmiennych `a_search_range` i `b_search_range`.\n",
        "\n",
        "Metoda ta, choć wymyślona ad-hoc, przypomina koncepcyjnie przedstawione w dalszych rozdziałach rzeczywiście stosowane podejścia, na przykład model perceptronu.\n",
        "\n",
        "Poniżej przykład w którym 9 razy szukamy coraz lepszych wartości parametrów $a$ i $b$ zaczynając od $a=0$ i $b=0$."
      ]
    },
    {
      "cell_type": "code",
      "metadata": {
        "id": "e--UlgRkIZXx"
      },
      "source": [
        "def find_better(c, v, error_fn, range):\n",
        "  range = 2\n",
        "  step = range / 50\n",
        "  start = v - range\n",
        "  stop = v + range\n",
        "  errors = np.array([[v2, error_fn(c, v2)] for v2 in np.arange(start, stop, step)])\n",
        "  return errors[errors[:, 1].argmin()]\n",
        "\n",
        "def find_better_a(data, a, b, i):\n",
        "  return find_better(b, a, lambda b, a: calculate_error(data, a, b), 2 / i)\n",
        "\n",
        "def find_better_b(data, a, b, i):\n",
        "  return find_better(a, b, lambda a, b: calculate_error(data, a, b), 2 / i)\n",
        "\n",
        "a = 0\n",
        "b = 0\n",
        "\n",
        "for i in range(1, 10):\n",
        "  better = find_better_a(data, a, b, i)\n",
        "  a = better[0]\n",
        "  better = find_better_b(data, a, b, i)\n",
        "  b = better[0]\n",
        "  print(f\"i={i}, a={a}, b={b}, error={better[1]}\")\n",
        "\n",
        "draw_data_and_line(data, a, b)"
      ],
      "execution_count": null,
      "outputs": []
    },
    {
      "cell_type": "markdown",
      "metadata": {
        "id": "n7_HegrQxY6L"
      },
      "source": [
        "Widozna prosta wydaje się bliska optymalnemu rozwiązaniu. W następnym rozdziale opisana będzie metoda najmniejszych kwadratów która daje optymalny rezultat. Będziemy mogli porównać ten rezultat z optymalnym."
      ]
    },
    {
      "cell_type": "markdown",
      "metadata": {
        "id": "0HcqLFnSygSE"
      },
      "source": [
        "# Początek wersji ultra-roboczej "
      ]
    },
    {
      "cell_type": "markdown",
      "metadata": {
        "id": "BucgftP1TBvM"
      },
      "source": [
        "### Metoda najmniejszych kwadratów"
      ]
    },
    {
      "cell_type": "markdown",
      "metadata": {
        "id": "ceYRASxvwwkA"
      },
      "source": [
        "Niech poniższa prosta koloru niebieskiego, to prosta przy użyciu której staramy się przewidzieć wartości obserwowane $y_i$ na podstawie $x_i$. Rzeczywiście przewidziana wartość dla $x_i$ to $\\hat{y}_i$.\n",
        "\n",
        "Na wykresie punkty od $y_0$ do $y_n$ to wartości obserwowane dla wartości objaśniających $x_0$ do $x_n$. \n",
        "\n",
        "Punkty od $\\hat{y}_0$ do $\\hat{y}_n$ to kolejne wartości objaśniane przewidziane przez prostą, dla tych samych wartości objaśniających $x_0$ do $x_n$. \n",
        "\n",
        "Możemy policzyć błąd objaśniania dla dowolnej prostej, jest nim suma kwadratów długości czerwonych odcinków, czyli $\\sum_{i=1}^{n}(y_i-\\hat{y}_i)^2$.\n",
        "\n",
        "Szukamy takiej prostej, dla której suma błędów jest jak najmniejsza: $ min \\sum_{i=1}^{n} (y_i-\\hat{y}_i)^2 $."
      ]
    },
    {
      "cell_type": "markdown",
      "metadata": {
        "id": "XeAxaC5F_T8K"
      },
      "source": [
        "## Przykładowe dane"
      ]
    },
    {
      "cell_type": "markdown",
      "metadata": {
        "id": "hlvQJk2EyFwq"
      },
      "source": [
        "Poniższa zmienna `data` opisuje przykładowy zbiór danych zaobserwowanych. Każdy element tego zbioru to dwuelementowana tablica w której pierwszy element to wartość objaśniająca $x_i$, a drugi element to wartość objaśniana $y_i$. Przykładowo `0.1` to wartość objaśniająca $x_1$, a `0.5` zaobserwowana dla niej wartość objaśniana $y_1$."
      ]
    },
    {
      "cell_type": "code",
      "metadata": {
        "id": "hAs3oxPCa0Ka"
      },
      "source": [
        "data = np.array([\n",
        "    [0.1, 0.5],\n",
        "    [0.2, 0.3],\n",
        "    [0.3, 0.6],\n",
        "    [0.5, 0.4],\n",
        "    [0.6, 0.3],\n",
        "    [0.9, 0.7],\n",
        "])"
      ],
      "execution_count": null,
      "outputs": []
    },
    {
      "cell_type": "markdown",
      "metadata": {
        "id": "AcH741Su_41P"
      },
      "source": [
        "## Optymalne przewidywanie"
      ]
    },
    {
      "cell_type": "code",
      "metadata": {
        "colab": {
          "base_uri": "https://localhost:8080/",
          "height": 265
        },
        "id": "D64jmBntmYDX",
        "outputId": "2da912db-1112-4892-913b-94115b667e5f"
      },
      "source": [
        "tutorial.show_linear_regresion_error_lines(data)"
      ],
      "execution_count": null,
      "outputs": [
        {
          "output_type": "display_data",
          "data": {
            "image/png": "[encoded data removed]",
            "text/plain": [
              "<Figure size 432x288 with 1 Axes>"
            ]
          },
          "metadata": {
            "needs_background": "light"
          }
        }
      ]
    },
    {
      "cell_type": "markdown",
      "metadata": {
        "id": "R_UdVEZc4e3D"
      },
      "source": [
        "# Nowa sekcja"
      ]
    },
    {
      "cell_type": "code",
      "metadata": {
        "id": "yhYywKbVwly6"
      },
      "source": [
        "data_set_1 = np.array([\n",
        "    [0.1, 0.5],\n",
        "    [0.2, 0.3],\n",
        "    [0.3, 0.6],\n",
        "    [0.5, 0.4],\n",
        "    [0.6, 0.3],\n",
        "    [0.9, 0.7],\n",
        "])\n",
        "data_set_2 = np.array([\n",
        "    [0.1, 0.9],\n",
        "    [0.2, 0.8],\n",
        "    [0.5, 0.5],\n",
        "    [0.6, 0.3],\n",
        "    [0.8, 0.2],\n",
        "    [0.9, 0.1],\n",
        "])\n",
        "data_sets = [data_set_1, data_set_2]"
      ],
      "execution_count": null,
      "outputs": []
    },
    {
      "cell_type": "markdown",
      "metadata": {
        "id": "Cm1L5_V69i8I"
      },
      "source": [
        "$ min \\sum_{i=1}^{n} (y_i−\\hat{y}_i)^2 $\n",
        "\n",
        "$ a = \\frac{\\sum_{i=1}^{n} (x_i - \\overline{x})(y_i - \\overline{y})}{\\sum_{i=1}^{n} (x_i - \\overline{x})^2} $\n",
        "\n",
        "$ b = \\overline{y} - a \\overline{x} $\n",
        "\n"
      ]
    },
    {
      "cell_type": "code",
      "metadata": {
        "colab": {
          "base_uri": "https://localhost:8080/",
          "height": 265
        },
        "id": "XGEQpLrSj1pP",
        "outputId": "a00f1c50-d4ab-40d7-9320-2383b42f34bc"
      },
      "source": [
        "data = data_set_1\n",
        "x_mean = data[:, 0].mean()\n",
        "y_mean = data[:, 1].mean()\n",
        "x, y = data.T\n",
        "plt.scatter(x, y)\n",
        "plt.scatter([x_mean], [y_mean], color='red')\n",
        "plt.show()"
      ],
      "execution_count": null,
      "outputs": [
        {
          "output_type": "display_data",
          "data": {
            "image/png": "[encoded data removed]",
            "text/plain": [
              "<Figure size 432x288 with 1 Axes>"
            ]
          },
          "metadata": {
            "needs_background": "light"
          }
        }
      ]
    },
    {
      "cell_type": "code",
      "metadata": {
        "colab": {
          "base_uri": "https://localhost:8080/",
          "height": 687
        },
        "id": "SRlTJRQB_7Wg",
        "outputId": "7f2b2e67-76c6-4864-f792-6d05b7973f1c"
      },
      "source": [
        "def print_error(a, b, data, name):\n",
        "  error = sum(d * d for d in [(a * item[0] + b) - item[1] for item in data]) \n",
        "  print(name + ' error: ' + str(error))\n",
        "\n",
        "def draw_line(a, b, color):\n",
        "  plt.plot([0, 1], [b, a + b], color=color)\n",
        "\n",
        "def trivial_1(data):\n",
        "  return 0, data[:, 1].mean()\n",
        "\n",
        "def trivial_2(data):\n",
        "  y_mean = data[:, 1].mean()\n",
        "  a = sum([d * d for d in [item[1] - y_mean for item in data]])\n",
        "  print(a)\n",
        "  return a, data[:, 1].mean()\n",
        "\n",
        "def least_squares(data):\n",
        "  x_mean = data[:, 0].mean()\n",
        "  y_mean = data[:, 1].mean()\n",
        "  x_diffs = [a[0] - x_mean for a in data]\n",
        "  y_diffs = [a[1] - y_mean for a in data]\n",
        "  x_squares = [a * a for a in x_diffs]\n",
        "  a = sum([a[0] * a[1] for a in zip(x_diffs, y_diffs)]) / sum(x_squares)\n",
        "  b = y_mean - a * x_mean\n",
        "  return a, b\n",
        "\n",
        "def least_qubics(data):\n",
        "  x_mean = data[:, 0].mean()\n",
        "  y_mean = data[:, 1].mean()\n",
        "  x_diffs = [a[0] - x_mean for a in data]\n",
        "  y_diffs = [a[1] - y_mean for a in data]\n",
        "  x_qubics = [a * a for a in x_diffs]\n",
        "  a = sum([a[0] * a[1] for a in zip(x_diffs, y_diffs)]) / sum(x_qubics)\n",
        "  b = y_mean - a * x_mean\n",
        "  return a, b\n",
        "\n",
        "def case(fun, data, color):\n",
        "  line = fun(data)\n",
        "  print_error(*line, data, fun.__qualname__)\n",
        "  draw_line(*line, color)\n",
        "\n",
        "for data in data_sets:\n",
        "  x, y = data.T\n",
        "  plt.scatter(x, y)\n",
        "  case(trivial_1, data, 'blue')\n",
        "  case(trivial_2, data, 'cyan')\n",
        "  case(least_squares, data, 'green')\n",
        "  case(least_qubics, data, 'red')\n",
        "  plt.show()\n"
      ],
      "execution_count": null,
      "outputs": [
        {
          "output_type": "stream",
          "name": "stdout",
          "text": [
            "trivial_1 error: 0.1333333333333333\n",
            "0.1333333333333333\n",
            "trivial_2 error: 0.13795555555555553\n",
            "least_squares error: 0.11599999999999999\n",
            "least_qubics error: 0.11599999999999999\n"
          ]
        },
        {
          "output_type": "display_data",
          "data": {
            "image/png": "[encoded data removed]",
            "text/plain": [
              "<Figure size 432x288 with 1 Axes>"
            ]
          },
          "metadata": {
            "needs_background": "light"
          }
        },
        {
          "output_type": "stream",
          "name": "stdout",
          "text": [
            "trivial_1 error: 0.5333333333333334\n",
            "0.5333333333333334\n",
            "trivial_2 error: 1.684622222222223\n",
            "least_squares error: 0.00819672131147543\n",
            "least_qubics error: 0.00819672131147543\n"
          ]
        },
        {
          "output_type": "display_data",
          "data": {
            "image/png": "[encoded data removed]",
            "text/plain": [
              "<Figure size 432x288 with 1 Axes>"
            ]
          },
          "metadata": {
            "needs_background": "light"
          }
        }
      ]
    },
    {
      "cell_type": "markdown",
      "metadata": {
        "id": "JKDCJmve-7qG"
      },
      "source": [
        "https://www.mathjax.org/"
      ]
    },
    {
      "cell_type": "code",
      "metadata": {
        "id": "LC7kLkhfCDC1"
      },
      "source": [
        ""
      ],
      "execution_count": null,
      "outputs": []
    }
  ]
}