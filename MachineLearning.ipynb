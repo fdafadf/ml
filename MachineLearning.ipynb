{
  "nbformat": 4,
  "nbformat_minor": 0,
  "metadata": {
    "colab": {
      "name": "MachineLearning.ipynb",
      "provenance": [],
      "collapsed_sections": [],
      "authorship_tag": "ABX9TyOij3nYs5PEVgDKgpzag1jI",
      "include_colab_link": true
    },
    "kernelspec": {
      "name": "python3",
      "display_name": "Python 3"
    },
    "language_info": {
      "name": "python"
    }
  },
  "cells": [
    {
      "cell_type": "markdown",
      "metadata": {
        "id": "view-in-github",
        "colab_type": "text"
      },
      "source": [
        "<a href=\"https://colab.research.google.com/github/fdafadf/ml/blob/main/MachineLearning.ipynb\" target=\"_parent\"><img src=\"https://colab.research.google.com/assets/colab-badge.svg\" alt=\"Open In Colab\"/></a>"
      ]
    },
    {
      "cell_type": "markdown",
      "metadata": {
        "id": "JKDCJmve-7qG"
      },
      "source": [
        "https://www.mathjax.org/"
      ]
    },
    {
      "cell_type": "markdown",
      "metadata": {
        "id": "s_290Xhr4eBc"
      },
      "source": [
        "# Regresja liniowa"
      ]
    },
    {
      "cell_type": "code",
      "metadata": {
        "colab": {
          "base_uri": "https://localhost:8080/"
        },
        "id": "LtSVQMrTuQlK",
        "outputId": "dfb4764f-3468-49d5-bb28-9621fd451d7b"
      },
      "source": [
        "%rm -rf ml\n",
        "!git clone https://github.com/fdafadf/ml"
      ],
      "execution_count": 9,
      "outputs": [
        {
          "output_type": "stream",
          "name": "stdout",
          "text": [
            "Cloning into 'ml'...\n",
            "remote: Enumerating objects: 15, done.\u001b[K\n",
            "remote: Counting objects: 100% (15/15), done.\u001b[K\n",
            "remote: Compressing objects: 100% (13/13), done.\u001b[K\n",
            "remote: Total 15 (delta 3), reused 0 (delta 0), pack-reused 0\u001b[K\n",
            "Unpacking objects: 100% (15/15), done.\n"
          ]
        }
      ]
    },
    {
      "cell_type": "code",
      "metadata": {
        "id": "ecdgXgiebDao"
      },
      "source": [
        "import matplotlib.pyplot as plt\n",
        "import numpy as np\n",
        "import ml.tutorial as tutorial"
      ],
      "execution_count": 1,
      "outputs": []
    },
    {
      "cell_type": "markdown",
      "metadata": {
        "id": "hlvQJk2EyFwq"
      },
      "source": [
        "Poniższa zmienna `data` opisuje przykładowy zbiór danych zaobserwowanych. Każdy element tego zbioru to dwuelementowana tablica w której pierwszy element to wartość objaśniająca $x_i$, a drugi element to wartość objaśniana $y_i$. Przykładowo `0.1` to wartość objaśniająca $x_1$, a `0.5` zaobserwowana dla niej wartość objaśniana $y_1$."
      ]
    },
    {
      "cell_type": "code",
      "metadata": {
        "id": "hAs3oxPCa0Ka"
      },
      "source": [
        "data = np.array([\n",
        "    [0.1, 0.5],\n",
        "    [0.2, 0.3],\n",
        "    [0.3, 0.6],\n",
        "    [0.5, 0.4],\n",
        "    [0.6, 0.3],\n",
        "    [0.9, 0.7],\n",
        "])"
      ],
      "execution_count": 4,
      "outputs": []
    },
    {
      "cell_type": "markdown",
      "metadata": {
        "id": "ceYRASxvwwkA"
      },
      "source": [
        "Niech poniższa prosta koloru niebieskiego, to prosta przy użyciu której staramy się przewidzieć wartości obserwowane $y_i$ na podstawie $x_i$. Rzeczywiście przewidziana wartość dla $x_i$ to $\\hat{y}_i$.\n",
        "\n",
        "Na wykresie punkty od $y_0$ do $y_n$ to wartości obserwowane dla wartości objaśniających $x_0$ do $x_n$. \n",
        "\n",
        "Punkty od $\\hat{y}_0$ do $\\hat{y}_n$ to kolejne wartości objaśniane przewidziane przez prostą, dla tych samych wartości objaśniających $x_0$ do $x_n$. \n",
        "\n",
        "Możemy policzyć błąd objaśniania dla dowolnej prostej, jest nim suma kwadratów długości czerwonych odcinków, czyli $ \\sum_{i=1}^{n} (y_i−\\hat{y}_i)^2 $.\n",
        "\n",
        "Szukamy takiej prostej, dla której suma błędów jest jak najmniejsza: $ min \\sum_{i=1}^{n} (y_i−\\hat{y}_i)^2 $."
      ]
    },
    {
      "cell_type": "code",
      "metadata": {
        "colab": {
          "base_uri": "https://localhost:8080/",
          "height": 265
        },
        "id": "D64jmBntmYDX",
        "outputId": "f52607c3-5363-4936-9e87-6fe2995f1612"
      },
      "source": [
        "tutorial.show_linear_regresion_error_lines(data)"
      ],
      "execution_count": 3,
      "outputs": [
        {
          "output_type": "display_data",
          "data": {
            "image/png": "[encoded data removed]",
            "text/plain": [
              "<Figure size 432x288 with 1 Axes>"
            ]
          },
          "metadata": {
            "needs_background": "light"
          }
        }
      ]
    },
    {
      "cell_type": "markdown",
      "metadata": {
        "id": "R_UdVEZc4e3D"
      },
      "source": [
        "# Nowa sekcja"
      ]
    },
    {
      "cell_type": "code",
      "metadata": {
        "id": "yhYywKbVwly6"
      },
      "source": [
        "data_set_1 = np.array([\n",
        "    [0.1, 0.5],\n",
        "    [0.2, 0.3],\n",
        "    [0.3, 0.6],\n",
        "    [0.5, 0.4],\n",
        "    [0.6, 0.3],\n",
        "    [0.9, 0.7],\n",
        "])\n",
        "data_set_2 = np.array([\n",
        "    [0.1, 0.9],\n",
        "    [0.2, 0.8],\n",
        "    [0.5, 0.5],\n",
        "    [0.6, 0.3],\n",
        "    [0.8, 0.2],\n",
        "    [0.9, 0.1],\n",
        "])\n",
        "data_sets = [data_set_1, data_set_2]"
      ],
      "execution_count": null,
      "outputs": []
    },
    {
      "cell_type": "markdown",
      "metadata": {
        "id": "Cm1L5_V69i8I"
      },
      "source": [
        "$ min \\sum_{i=1}^{n} (y_i−\\hat{y}_i)^2 $\n",
        "\n",
        "$ a = \\frac{\\sum_{i=1}^{n} (x_i - \\overline{x})(y_i - \\overline{y})}{\\sum_{i=1}^{n} (x_i - \\overline{x})^2} $\n",
        "\n",
        "$ b = \\overline{y} - a \\overline{x} $\n",
        "\n"
      ]
    },
    {
      "cell_type": "code",
      "metadata": {
        "colab": {
          "base_uri": "https://localhost:8080/",
          "height": 265
        },
        "id": "XGEQpLrSj1pP",
        "outputId": "a00f1c50-d4ab-40d7-9320-2383b42f34bc"
      },
      "source": [
        "data = data_set_1\n",
        "x_mean = data[:, 0].mean()\n",
        "y_mean = data[:, 1].mean()\n",
        "x, y = data.T\n",
        "plt.scatter(x, y)\n",
        "plt.scatter([x_mean], [y_mean], color='red')\n",
        "plt.show()"
      ],
      "execution_count": 90,
      "outputs": [
        {
          "output_type": "display_data",
          "data": {
            "image/png": "[encoded data removed]",
            "text/plain": [
              "<Figure size 432x288 with 1 Axes>"
            ]
          },
          "metadata": {
            "needs_background": "light"
          }
        }
      ]
    },
    {
      "cell_type": "code",
      "metadata": {
        "colab": {
          "base_uri": "https://localhost:8080/",
          "height": 687
        },
        "id": "SRlTJRQB_7Wg",
        "outputId": "7f2b2e67-76c6-4864-f792-6d05b7973f1c"
      },
      "source": [
        "def print_error(a, b, data, name):\n",
        "  error = sum(d * d for d in [(a * item[0] + b) - item[1] for item in data]) \n",
        "  print(name + ' error: ' + str(error))\n",
        "\n",
        "def draw_line(a, b, color):\n",
        "  plt.plot([0, 1], [b, a + b], color=color)\n",
        "\n",
        "def trivial_1(data):\n",
        "  return 0, data[:, 1].mean()\n",
        "\n",
        "def trivial_2(data):\n",
        "  y_mean = data[:, 1].mean()\n",
        "  a = sum([d * d for d in [item[1] - y_mean for item in data]])\n",
        "  print(a)\n",
        "  return a, data[:, 1].mean()\n",
        "\n",
        "def least_squares(data):\n",
        "  x_mean = data[:, 0].mean()\n",
        "  y_mean = data[:, 1].mean()\n",
        "  x_diffs = [a[0] - x_mean for a in data]\n",
        "  y_diffs = [a[1] - y_mean for a in data]\n",
        "  x_squares = [a * a for a in x_diffs]\n",
        "  a = sum([a[0] * a[1] for a in zip(x_diffs, y_diffs)]) / sum(x_squares)\n",
        "  b = y_mean - a * x_mean\n",
        "  return a, b\n",
        "\n",
        "def least_qubics(data):\n",
        "  x_mean = data[:, 0].mean()\n",
        "  y_mean = data[:, 1].mean()\n",
        "  x_diffs = [a[0] - x_mean for a in data]\n",
        "  y_diffs = [a[1] - y_mean for a in data]\n",
        "  x_qubics = [a * a for a in x_diffs]\n",
        "  a = sum([a[0] * a[1] for a in zip(x_diffs, y_diffs)]) / sum(x_qubics)\n",
        "  b = y_mean - a * x_mean\n",
        "  return a, b\n",
        "\n",
        "def case(fun, data, color):\n",
        "  line = fun(data)\n",
        "  print_error(*line, data, fun.__qualname__)\n",
        "  draw_line(*line, color)\n",
        "\n",
        "for data in data_sets:\n",
        "  x, y = data.T\n",
        "  plt.scatter(x, y)\n",
        "  case(trivial_1, data, 'blue')\n",
        "  case(trivial_2, data, 'cyan')\n",
        "  case(least_squares, data, 'green')\n",
        "  case(least_qubics, data, 'red')\n",
        "  plt.show()\n"
      ],
      "execution_count": 8,
      "outputs": [
        {
          "output_type": "stream",
          "name": "stdout",
          "text": [
            "trivial_1 error: 0.1333333333333333\n",
            "0.1333333333333333\n",
            "trivial_2 error: 0.13795555555555553\n",
            "least_squares error: 0.11599999999999999\n",
            "least_qubics error: 0.11599999999999999\n"
          ]
        },
        {
          "output_type": "display_data",
          "data": {
            "image/png": "[encoded data removed]",
            "text/plain": [
              "<Figure size 432x288 with 1 Axes>"
            ]
          },
          "metadata": {
            "needs_background": "light"
          }
        },
        {
          "output_type": "stream",
          "name": "stdout",
          "text": [
            "trivial_1 error: 0.5333333333333334\n",
            "0.5333333333333334\n",
            "trivial_2 error: 1.684622222222223\n",
            "least_squares error: 0.00819672131147543\n",
            "least_qubics error: 0.00819672131147543\n"
          ]
        },
        {
          "output_type": "display_data",
          "data": {
            "image/png": "[encoded data removed]",
            "text/plain": [
              "<Figure size 432x288 with 1 Axes>"
            ]
          },
          "metadata": {
            "needs_background": "light"
          }
        }
      ]
    },
    {
      "cell_type": "code",
      "metadata": {
        "id": "LC7kLkhfCDC1"
      },
      "source": [
        ""
      ],
      "execution_count": null,
      "outputs": []
    }
  ]
}